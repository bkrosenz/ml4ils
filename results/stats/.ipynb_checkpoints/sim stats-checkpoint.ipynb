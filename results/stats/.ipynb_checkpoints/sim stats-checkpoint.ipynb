{
 "cells": [
  {
   "cell_type": "code",
   "execution_count": null,
   "metadata": {},
   "outputs": [],
   "source": [
    "from glob import glob\n",
    "\n",
    "import sys\n",
    "sys.path.append(\"../code/pylib\")\n",
    "\n",
    "# plotting                                                                                                                                                                                         \n",
    "from sqlalchemy.orm import load_only,sessionmaker\n",
    "from sqlalchemy import Table, Column, Integer, String, MetaData, ForeignKey, Float, Sequence, create_engine\n",
    "import sqlalchemy as sa\n",
    "from sqlalchemy.sql.expression import func\n",
    "from sqlalchemy.dialects.postgresql import insert\n",
    "from sqlalchemy.schema import PrimaryKeyConstraint,UniqueConstraint\n",
    "\n",
    "import matplotlib\n",
    "matplotlib.use('Agg')\n",
    "from itertools import chain,islice\n",
    "import matplotlib.pyplot as plt\n",
    "from collections import defaultdict,Counter\n",
    "from io import StringIO\n",
    "from functools import partial,reduce\n",
    "from operator import add\n",
    "import argparse,re,gc,pickle\n",
    "from ete3 import Tree\n",
    "from scipy.sparse import csr_matrix, triu\n",
    "from os import path,walk,remove\n",
    "from scipy import stats\n",
    "from numba import njit,vectorize\n",
    "from numba.types import *\n",
    "import pandas as pd\n",
    "import numpy as np\n",
    "import utils\n"
   ]
  }
 ],
 "metadata": {
  "kernelspec": {
   "display_name": "Python 3",
   "language": "python",
   "name": "python3"
  },
  "language_info": {
   "codemirror_mode": {
    "name": "ipython",
    "version": 3
   },
   "file_extension": ".py",
   "mimetype": "text/x-python",
   "name": "python",
   "nbconvert_exporter": "python",
   "pygments_lexer": "ipython3",
   "version": "3.6.8"
  }
 },
 "nbformat": 4,
 "nbformat_minor": 2
}
